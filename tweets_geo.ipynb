{
 "cells": [
  {
   "cell_type": "markdown",
   "source": [
    "# Geolocation\n",
    "\n",
    "#### Importing useful libraries"
   ],
   "metadata": {
    "collapsed": false
   },
   "id": "d772c0318c36068b"
  },
  {
   "cell_type": "code",
   "execution_count": 2,
   "id": "4fc5bd53-4ef5-4499-b36c-429bb020b940",
   "metadata": {
    "ExecuteTime": {
     "end_time": "2024-02-08T13:02:20.549463Z",
     "start_time": "2024-02-08T13:02:18.890289Z"
    }
   },
   "outputs": [
    {
     "name": "stderr",
     "output_type": "stream",
     "text": [
      "/var/folders/j_/9989vv3d7z7c61s49rkzydxm0000gn/T/ipykernel_87991/2216638866.py:3: DeprecationWarning: \n",
      "Pyarrow will become a required dependency of pandas in the next major release of pandas (pandas 3.0),\n",
      "(to allow more performant data types, such as the Arrow string type, and better interoperability with other libraries)\n",
      "but was not found to be installed on your system.\n",
      "If this would cause problems for you,\n",
      "please provide us feedback at https://github.com/pandas-dev/pandas/issues/54466\n",
      "        \n",
      "  import pandas as pd\n"
     ]
    }
   ],
   "source": [
    "# Importing useful libraries\n",
    "import numpy as np\n",
    "import pandas as pd\n",
    "import matplotlib.pyplot as plt\n",
    "import spacy"
   ]
  },
  {
   "cell_type": "markdown",
   "source": [
    "#### Dataset import"
   ],
   "metadata": {
    "collapsed": false
   },
   "id": "1ab560534a5b05c3"
  },
  {
   "cell_type": "code",
   "execution_count": 18,
   "id": "c6994fbb-b67f-43d3-b9a2-402b4816e8a5",
   "metadata": {
    "ExecuteTime": {
     "end_time": "2024-02-07T16:52:22.490725Z",
     "start_time": "2024-02-07T16:52:14.469959Z"
    }
   },
   "outputs": [],
   "source": [
    "# Replace file path with the personal one in which the dataset is contained\n",
    "chunk = pd.read_csv(\"/Users/eliacannas/Desktop/SentimentAnalysis/venv/tweets03to06_22_sent.csv\", chunksize=100000,lineterminator='\\n', low_memory=False)\n",
    "df = pd.concat(chunk)"
   ]
  },
  {
   "cell_type": "markdown",
   "source": [
    "## Preprocessing"
   ],
   "metadata": {
    "collapsed": false
   },
   "id": "c01bb362bb1f99b2"
  },
  {
   "cell_type": "markdown",
   "source": [
    "#### Correcting column types"
   ],
   "metadata": {
    "collapsed": false
   },
   "id": "c6269eefc3aaf19c"
  },
  {
   "cell_type": "code",
   "execution_count": null,
   "id": "cc954078-c5a0-4748-8eba-95c8b63ede86",
   "metadata": {
    "ExecuteTime": {
     "start_time": "2024-02-07T10:47:53.461833Z"
    }
   },
   "outputs": [],
   "source": [
    "# Conversion of column types\n",
    "location_df = df.convert_dtypes()\n",
    "location_df.dtypes\n",
    "location_df.info()"
   ]
  },
  {
   "cell_type": "markdown",
   "source": [
    "#### Unknown value assignment for locations that have certain values"
   ],
   "metadata": {
    "collapsed": false
   },
   "id": "fe61dc9a8c94d968"
  },
  {
   "cell_type": "code",
   "execution_count": null,
   "id": "bdb9bcc1-9382-41a6-a43d-c437c10c132b",
   "metadata": {
    "ExecuteTime": {
     "start_time": "2024-02-07T10:47:53.464098Z"
    }
   },
   "outputs": [],
   "source": [
    "# Replacing outliers for user_location column with Keywords 'Unknown'\n",
    "location_df.loc[location_df['user_location'].str.isnumeric(), 'user_location'] = 'Unknown'\n",
    "location_df.user_location = location_df.user_location.fillna('Unknown')\n",
    "location_df.loc[location_df['user_location'].str.contains('#', case=False), 'user_location'] = 'Unknown'\n",
    "location_df.loc[location_df['user_location'].str.contains('@', case=False), 'user_location'] = 'Unknown'\n",
    "location_df.head()"
   ]
  },
  {
   "cell_type": "code",
   "execution_count": null,
   "id": "c55a33d1-ed66-4f14-a661-4819192616f8",
   "metadata": {
    "ExecuteTime": {
     "start_time": "2024-02-07T10:47:53.465011Z"
    }
   },
   "outputs": [],
   "source": [
    "# Resizing the dataset by removing rows that have the value 'Unknown'\n",
    "spacy_df = location_df.loc[~(location_df['user_location'] == 'Unknown')]\n",
    "spacy_df.shape"
   ]
  },
  {
   "cell_type": "markdown",
   "source": [
    "#### Creating isLoc column no need to repeat step, import new dataset into next cells..."
   ],
   "metadata": {
    "collapsed": false
   },
   "id": "7fe09772294907bb"
  },
  {
   "cell_type": "code",
   "execution_count": null,
   "id": "40ceaf56-bfad-4f8b-a7b0-d3821687f6f4",
   "metadata": {
    "ExecuteTime": {
     "start_time": "2024-02-07T10:47:53.471146Z"
    }
   },
   "outputs": [],
   "source": [
    "# Loading pre-trained model\n",
    "nlp = spacy.load(\"en_core_web_sm\") "
   ]
  },
  {
   "cell_type": "code",
   "execution_count": null,
   "id": "5dc48e3a-ef62-4d1d-987b-c331ce21c52c",
   "metadata": {
    "ExecuteTime": {
     "start_time": "2024-02-07T10:47:53.472405Z"
    }
   },
   "outputs": [],
   "source": [
    "# This function check_for_gpe(text) accepts text as input and returns True if at least one entity detected by the spaCy model in the text is marked as GPE (Geopolitical Entity) and False otherwise.\n",
    "def check_for_gpe(text):\n",
    "    doc = nlp(text)\n",
    "    lst = [x.label_ for x in doc.ents]\n",
    "    if 'GPE'  in lst: return True\n",
    "    else: return False"
   ]
  },
  {
   "cell_type": "code",
   "execution_count": null,
   "id": "73cbbd48-d019-4090-b56f-9df74a4eed3c",
   "metadata": {
    "ExecuteTime": {
     "end_time": "2024-02-07T10:47:53.489025Z",
     "start_time": "2024-02-07T10:47:53.477158Z"
    }
   },
   "outputs": [],
   "source": [
    "# Addition of isLoc column containing True or False values for each user_location\n",
    "spacy_df['IsLoc'] = spacy_df['user_location'].apply(lambda row: check_for_gpe(row))"
   ]
  },
  {
   "cell_type": "markdown",
   "source": [
    "#### Importing dataset with isLoc column and post import column type corrections"
   ],
   "metadata": {
    "collapsed": false
   },
   "id": "6830253fa435ebec"
  },
  {
   "cell_type": "code",
   "execution_count": 3,
   "outputs": [
    {
     "name": "stdout",
     "output_type": "stream",
     "text": [
      "<class 'pandas.core.frame.DataFrame'>\n",
      "RangeIndex: 709584 entries, 0 to 709583\n",
      "Data columns (total 13 columns):\n",
      " #   Column           Non-Null Count   Dtype  \n",
      "---  ------           --------------   -----  \n",
      " 0   user_name        709578 non-null  object \n",
      " 1   user_location    709584 non-null  object \n",
      " 2   user_followers   709584 non-null  int64  \n",
      " 3   user_friends     709584 non-null  int64  \n",
      " 4   user_favourites  709584 non-null  int64  \n",
      " 5   user_verified    709584 non-null  bool   \n",
      " 6   date             709584 non-null  object \n",
      " 7   text             709584 non-null  object \n",
      " 8   hashtags         709579 non-null  object \n",
      "      709584 non-null  object \n",
      " 10  polarity         709584 non-null  float64\n",
      "       709584 non-null  object \n",
      " 12  IsLoc            709584 non-null  bool   \n",
      "dtypes: bool(2), float64(1), int64(3), object(7)\n",
      "memory usage: 60.9+ MB\n"
     ]
    },
    {
     "data": {
      "text/plain": "                 user_name      user_location  user_followers  user_friends  \\\n0                  Kotha40    Soudersburg, PA           10357         10602   \n1             Bitcoin Bot🤖             server             725             1   \n2               Pyscho Ape      New York, USA            1959          5002   \n3  supar fan (follow back)  Dhaka, Bangladesh            2682          3118   \n4              Christopher        Manila Mesa              28           142   \n\n   user_favourites  user_verified        date  \\\n0             7052          False  2022-03-02   \n1               26          False  2022-03-02   \n2             4472          False  2022-03-02   \n3             1516          False  2022-03-02   \n4              341          False  2022-03-02   \n\n                                                text  \\\n0  # Orijin # Polygon # IDO # BSC # Eth # BTC # A...   \n1     Current # Bitcoin Price $ 44370 # BTC # Crypto   \n2  👑Psycho Ape exclusive collection unique NFT 👑 ...   \n3  This project give us Good profit . I see perso...   \n4                   # btc testing testing testing 👀🚀   \n\n                                            hashtags is_retweet\\r  polarity  \\\n0  ['Orijin', 'Polygon', 'IDO', 'BSC', 'Eth', 'BT...      False\\r  0.145833   \n1                       ['Bitcoin', 'BTC', 'Crypto']      False\\r  0.000000   \n2  ['NFTCommunity', 'NFTGiveaway', 'art', 'NFTdro...      False\\r  0.375000   \n3  ['Orijin', 'Polygon', 'IDO', 'BSC', 'Eth', 'BT...      False\\r  0.580000   \n4                                            ['btc']      False\\r  0.000000   \n\n  Sentiment\\r  IsLoc  \n0  Positive\\r   True  \n1   Neutral\\r  False  \n2  Positive\\r   True  \n3  Positive\\r   True  \n4   Neutral\\r   True  ",
      "text/html": "<div>\n<style scoped>\n    .dataframe tbody tr th:only-of-type {\n        vertical-align: middle;\n    }\n\n    .dataframe tbody tr th {\n        vertical-align: top;\n    }\n\n    .dataframe thead th {\n        text-align: right;\n    }\n</style>\n<table border=\"1\" class=\"dataframe\">\n  <thead>\n    <tr style=\"text-align: right;\">\n      <th></th>\n      <th>user_name</th>\n      <th>user_location</th>\n      <th>user_followers</th>\n      <th>user_friends</th>\n      <th>user_favourites</th>\n      <th>user_verified</th>\n      <th>date</th>\n      <th>text</th>\n      <th>hashtags</th>\n      <th>is_retweet\\r</th>\n      <th>polarity</th>\n      <th>Sentiment\\r</th>\n      <th>IsLoc</th>\n    </tr>\n  </thead>\n  <tbody>\n    <tr>\n      <th>0</th>\n      <td>Kotha40</td>\n      <td>Soudersburg, PA</td>\n      <td>10357</td>\n      <td>10602</td>\n      <td>7052</td>\n      <td>False</td>\n      <td>2022-03-02</td>\n      <td># Orijin # Polygon # IDO # BSC # Eth # BTC # A...</td>\n      <td>['Orijin', 'Polygon', 'IDO', 'BSC', 'Eth', 'BT...</td>\n      <td>False\\r</td>\n      <td>0.145833</td>\n      <td>Positive\\r</td>\n      <td>True</td>\n    </tr>\n    <tr>\n      <th>1</th>\n      <td>Bitcoin Bot🤖</td>\n      <td>server</td>\n      <td>725</td>\n      <td>1</td>\n      <td>26</td>\n      <td>False</td>\n      <td>2022-03-02</td>\n      <td>Current # Bitcoin Price $ 44370 # BTC # Crypto</td>\n      <td>['Bitcoin', 'BTC', 'Crypto']</td>\n      <td>False\\r</td>\n      <td>0.000000</td>\n      <td>Neutral\\r</td>\n      <td>False</td>\n    </tr>\n    <tr>\n      <th>2</th>\n      <td>Pyscho Ape</td>\n      <td>New York, USA</td>\n      <td>1959</td>\n      <td>5002</td>\n      <td>4472</td>\n      <td>False</td>\n      <td>2022-03-02</td>\n      <td>👑Psycho Ape exclusive collection unique NFT 👑 ...</td>\n      <td>['NFTCommunity', 'NFTGiveaway', 'art', 'NFTdro...</td>\n      <td>False\\r</td>\n      <td>0.375000</td>\n      <td>Positive\\r</td>\n      <td>True</td>\n    </tr>\n    <tr>\n      <th>3</th>\n      <td>supar fan (follow back)</td>\n      <td>Dhaka, Bangladesh</td>\n      <td>2682</td>\n      <td>3118</td>\n      <td>1516</td>\n      <td>False</td>\n      <td>2022-03-02</td>\n      <td>This project give us Good profit . I see perso...</td>\n      <td>['Orijin', 'Polygon', 'IDO', 'BSC', 'Eth', 'BT...</td>\n      <td>False\\r</td>\n      <td>0.580000</td>\n      <td>Positive\\r</td>\n      <td>True</td>\n    </tr>\n    <tr>\n      <th>4</th>\n      <td>Christopher</td>\n      <td>Manila Mesa</td>\n      <td>28</td>\n      <td>142</td>\n      <td>341</td>\n      <td>False</td>\n      <td>2022-03-02</td>\n      <td># btc testing testing testing 👀🚀</td>\n      <td>['btc']</td>\n      <td>False\\r</td>\n      <td>0.000000</td>\n      <td>Neutral\\r</td>\n      <td>True</td>\n    </tr>\n  </tbody>\n</table>\n</div>"
     },
     "execution_count": 3,
     "metadata": {},
     "output_type": "execute_result"
    }
   ],
   "source": [
    "# For convenience and to avoid recalculating isLoc for each user_location let's import the table already containing this information. N.B. Replace the path with the one containing the table tweet_isLoc.csv\n",
    "chunk = pd.read_csv(\"/Users/eliacannas/Desktop/SentimentAnalysis/venv/tweet_isLoc.csv\", chunksize=100000,lineterminator='\\n', low_memory=False)\n",
    "spacy_df = pd.concat(chunk)\n",
    "spacy_df.info()\n",
    "spacy_df.head()"
   ],
   "metadata": {
    "collapsed": false,
    "ExecuteTime": {
     "end_time": "2024-02-08T13:02:30.803457Z",
     "start_time": "2024-02-08T13:02:27.618048Z"
    }
   },
   "id": "d8319d21f494ba16"
  },
  {
   "cell_type": "code",
   "execution_count": 4,
   "outputs": [
    {
     "data": {
      "text/plain": "user_name          string[python]\nuser_location      string[python]\nuser_followers              Int64\nuser_friends                Int64\nuser_favourites             Int64\nuser_verified             boolean\ndate               string[python]\ntext               string[python]\nhashtags           string[python]\nis_retweet\\r       string[python]\npolarity                  Float64\nSentiment\\r        string[python]\nIsLoc                     boolean\ndtype: object"
     },
     "execution_count": 4,
     "metadata": {},
     "output_type": "execute_result"
    }
   ],
   "source": [
    "# Setting dataset column types\n",
    "spacy_df = spacy_df.convert_dtypes()\n",
    "spacy_df.dtypes"
   ],
   "metadata": {
    "collapsed": false,
    "ExecuteTime": {
     "end_time": "2024-02-08T13:02:39.911695Z",
     "start_time": "2024-02-08T13:02:39.616746Z"
    }
   },
   "id": "10096dbe79b0369d"
  },
  {
   "cell_type": "markdown",
   "source": [
    "#### Reducing dataset size to valid locations (those that have value True)"
   ],
   "metadata": {
    "collapsed": false
   },
   "id": "2f42fd738a71aacf"
  },
  {
   "cell_type": "code",
   "execution_count": 5,
   "outputs": [
    {
     "data": {
      "text/plain": "(370766, 13)"
     },
     "execution_count": 5,
     "metadata": {},
     "output_type": "execute_result"
    }
   ],
   "source": [
    "# Resizing the dataset, removing rows where the value of isLoc is false since the user's location cannot be understood\n",
    "geopy_df = spacy_df.loc[spacy_df['IsLoc']== True]\n",
    "geopy_df.shape"
   ],
   "metadata": {
    "collapsed": false,
    "ExecuteTime": {
     "end_time": "2024-02-08T13:02:44.082357Z",
     "start_time": "2024-02-08T13:02:43.969458Z"
    }
   },
   "id": "6cc20b0acba1c4ab"
  },
  {
   "cell_type": "markdown",
   "source": [
    "#### Added Nation starting from the location in the dataset"
   ],
   "metadata": {
    "collapsed": false
   },
   "id": "79a432f64f4243c4"
  },
  {
   "cell_type": "code",
   "execution_count": 6,
   "outputs": [
    {
     "name": "stderr",
     "output_type": "stream",
     "text": [
      "/var/folders/j_/9989vv3d7z7c61s49rkzydxm0000gn/T/ipykernel_87991/4164134226.py:216: SettingWithCopyWarning: \n",
      "A value is trying to be set on a copy of a slice from a DataFrame.\n",
      "Try using .loc[row_indexer,col_indexer] = value instead\n",
      "\n",
      "See the caveats in the documentation: https://pandas.pydata.org/pandas-docs/stable/user_guide/indexing.html#returning-a-view-versus-a-copy\n",
      "  geopy_df['user_nation'] = geopy_df['user_location'].apply(get_country_from_position)\n"
     ]
    }
   ],
   "source": [
    "# Method to be able to assign a nation given a location entered in the user and taken from the dataset\n",
    "import geonamescache # NLP library import for nation attribution\n",
    "\n",
    "def get_country_from_position(position): \n",
    "    gc = geonamescache.GeonamesCache()\n",
    "    countries = gc.get_countries_by_names()\n",
    "\n",
    "    # Add conditional rules to handle special cases\n",
    "    if \"USA\" in position:\n",
    "        return \"United States\"\n",
    "    elif \"UK\" in position:\n",
    "        return \"United Kingdom\"\n",
    "    elif \"KENYA\" in position:\n",
    "        return \"Kenya\"\n",
    "    elif \"Lombardia\" in position:\n",
    "        return \"Italy\"\n",
    "    elif \"Kingdom\" in position:\n",
    "        return \"United Kingdom\"\n",
    "    elif \"London\" in position:\n",
    "        return \"United Kingdom\"\n",
    "    elif \"England\" in position:\n",
    "        return \"United Kingdom\"\n",
    "    elif \"Seul\" in position:\n",
    "        return \"South of Korea\"\n",
    "    elif \"Burdur\" in position:\n",
    "        return \"Turkey\"\n",
    "    elif \"Oradea\" in position:\n",
    "        return \"Romania\"\n",
    "    elif \"Deutschland\" in position:\n",
    "        return \"Deutschland\"\n",
    "    elif \"Dubai\" in position:\n",
    "        return \"Emirates\"\n",
    "    elif \"NY\" in position:\n",
    "        return \"United States\"\n",
    "    elif \"Korea\" in position:\n",
    "        return \"Koread\"\n",
    "    elif \"Missouri\" in position:\n",
    "        return \"United States\"\n",
    "    elif \"New Delhi\" in position:\n",
    "        return \"Emirates\"\n",
    "    elif \"Florida\" in position:\n",
    "        return \"United States\"\n",
    "    elif \"California\" in position:\n",
    "        return \"United States\"\n",
    "    elif \"Atlanta\" in position:\n",
    "        return \"United States\"\n",
    "    elif \"Campania\" in position:\n",
    "        return \"Italy\"\n",
    "    elif \"CA\" in position:\n",
    "        return \"United States\"\n",
    "    elif \"Michigan\" in position:\n",
    "        return \"United States\"\n",
    "    elif \"colorado\" in position:\n",
    "        return \"United States\"\n",
    "    elif \"Paris\" in position:\n",
    "        return \"France\"\n",
    "    elif \"Prague\" in position:\n",
    "        return \"Czech Republic\"\n",
    "    elif \"ustralia\" in position:\n",
    "        return \"Australia\"\n",
    "    elif \"Lagos\" in position:\n",
    "        return \"Lagos\"\n",
    "    elif \"Montana\" in position:\n",
    "        return \"United States\"\n",
    "    elif \"Los Angeles\" in position:\n",
    "        return \"United States\"\n",
    "    elif \"BR\" in position:\n",
    "        return \"Brazil\"\n",
    "    elif \"MS\" in position:\n",
    "        return \"United States\"\n",
    "    elif \"argentina\" in position:\n",
    "        return \"Argentina\"\n",
    "    elif \"Hollywood\" in position:\n",
    "        return \"United States\"\n",
    "    elif \"Illinois\" in position:\n",
    "        return \"United States\"\n",
    "    elif \"indonesia\" in position:\n",
    "        return \"Indonesia\"\n",
    "    elif \"Ontário\" in position:\n",
    "        return \"United States\"\n",
    "    elif \"België\" in position:\n",
    "        return \"Belgium\"\n",
    "    elif \"LA\" in position:\n",
    "        return \"United States\"\n",
    "    elif \"Virginia\" in position:\n",
    "        return \"United States\"\n",
    "    elif \"Pennsylvania\" in position:\n",
    "        return \"United States\"\n",
    "    elif \"spain\" in position:\n",
    "        return \"Spain\"\n",
    "    elif \"los\" in position:\n",
    "        return \"United States\"\n",
    "    elif \"Alabam\" in position:\n",
    "        return \"United States\"\n",
    "    elif \"usa\" in position:\n",
    "        return \"United States\"\n",
    "    elif \"America\" in position:\n",
    "        return \"United States\"\n",
    "    elif \"PA\" in position:\n",
    "        return \"United States\"\n",
    "    elif \"NEW\" in position:\n",
    "        return \"United States\"\n",
    "    elif \"Ontario\" in position:\n",
    "        return \"United States\"\n",
    "    elif \"Oregon\" in position:\n",
    "        return \"United States\"\n",
    "    elif \"TX\" in position:\n",
    "        return \"United States\"\n",
    "    elif \"Colorado\" in position:\n",
    "        return \"United States\"\n",
    "    elif \"Sicilia\" in position:\n",
    "        return \"Italy\"\n",
    "    elif \"Sydney\" in position:\n",
    "        return \"Australia\"\n",
    "    elif \"FL\" in position:\n",
    "        return \"United States\"\n",
    "    elif \"MO\" in position:\n",
    "        return \"United States\"\n",
    "    elif \"IL\" in position:\n",
    "        return \"United States\"\n",
    "    elif \"OK\" in position:\n",
    "       return \"United States\"\n",
    "    elif \"UT\" in position:\n",
    "        return \"United States\"\n",
    "    elif \"ZA\" in position:\n",
    "        return \"United States\"\n",
    "    elif \"ME\" in position:\n",
    "        return \"United States\"\n",
    "    elif \"IA\" in position:\n",
    "        return \"United States\"\n",
    "    elif \"NH\" in position:\n",
    "        return \"United States\"\n",
    "    elif \"Madrid\" in position:\n",
    "        return \"Spain\"\n",
    "    elif \"ChiCaGo\" in position:\n",
    "        return \"United States\"\n",
    "    elif \"WA\" in position:\n",
    "        return \"United States\"\n",
    "    elif \"TL\" in position:\n",
    "        return \"United States\"\n",
    "    elif \"Danmark\" in position:\n",
    "        return \"Denmark\"\n",
    "    elif \"Bali\" in position:\n",
    "        return \"Indonesia\"\n",
    "    elif \"Cupertino\" in position:\n",
    "        return \"United States\"\n",
    "    elif \"U.S.A\" in position:\n",
    "        return \"United States\"\n",
    "    elif \"Pinang\" in position:\n",
    "        return \"Cayman\"\n",
    "    elif \"City\" in position:\n",
    "        return \"United States\"\n",
    "    elif \"Türkiye\" in position:\n",
    "        return \"Turkey\"\n",
    "    elif \"Lazio\" in position:\n",
    "        return \"Italy\"\n",
    "    elif \"Sardegna\" in position:\n",
    "        return \"Italy\"\n",
    "    elif \"Calabria\" in position:\n",
    "        return \"Italy\"\n",
    "    elif \"Piemonte\" in position:\n",
    "        return \"Italy\"\n",
    "    elif \"Liguria\" in position:\n",
    "        return \"Italy\"\n",
    "    elif \"Marche\" in position:\n",
    "        return \"Italy\"\n",
    "    elif \"Emilia Romagna\" in position:\n",
    "        return \"Italy\"\n",
    "    elif \"Trentino\" in position:\n",
    "        return \"Italy\"\n",
    "    elif \"Puglia\" in position:\n",
    "        return \"Italy\"\n",
    "    elif \"Barce\" in position:\n",
    "        return \"Spain\"\n",
    "    elif \"Madrid\" in position:\n",
    "        return \"Spain\"\n",
    "    elif \"Istanbul\" in position:\n",
    "        return \"Turkey\"\n",
    "    elif \"Ind\" in position:\n",
    "        return \"India\"\n",
    "    elif \"OH\" in position:\n",
    "        return \"United States\"\n",
    "    elif \"Oslo\" in position:\n",
    "        return \"Norway\"\n",
    "    elif \"Manila\" in position:\n",
    "        return \"Philippines\"\n",
    "    elif \"NV\" in position:\n",
    "        return \"United States\"\n",
    "    elif \"Helsinki\" in position:\n",
    "        return \"Finland\"\n",
    "    elif \"la\" in position:\n",
    "        return \"United States\"\n",
    "    elif \"ny\" in position:\n",
    "        return \"United States\"\n",
    "    elif \"Orange\" in position:\n",
    "        return \"United States\"\n",
    "    elif \"Mogadishu\" in position:\n",
    "        return \"Somalia\"\n",
    "    elif \"Texas\" in position:\n",
    "        return \"United States\"\n",
    "    elif \"CO\" in position:\n",
    "        return \"United States\"\n",
    "    elif \"Washington\" in position:\n",
    "        return \"United States\"\n",
    "    elif \"Delhi\" in position:\n",
    "        return \"India\"\n",
    "    elif \"beach\" in position:\n",
    "        return \"United States\"\n",
    "    else: # In the case where the value is contained within the NLP library used the replacement will occur automatically\n",
    "        for country_code, country_info in countries.items():\n",
    "            if country_info['name'] in position:\n",
    "                return country_info['name']\n",
    "    return None\n",
    "\n",
    "# Creating user_nation column and adding nation\n",
    "geopy_df['user_nation'] = geopy_df['user_location'].apply(get_country_from_position)"
   ],
   "metadata": {
    "collapsed": false,
    "ExecuteTime": {
     "end_time": "2024-02-08T13:07:38.613216Z",
     "start_time": "2024-02-08T13:02:51.181787Z"
    }
   },
   "id": "1c38a80de33cad28"
  },
  {
   "cell_type": "markdown",
   "source": [
    "#### Saving updated dataset with new column 'user_nation'"
   ],
   "metadata": {
    "collapsed": false
   },
   "id": "79296efd954191a2"
  },
  {
   "cell_type": "code",
   "execution_count": null,
   "outputs": [],
   "source": [
    "# Saving the obtained dataset insided a file. \n",
    "# N.B. Replace the path with the correct path where the dataset tweet_nation.csv is contained.\n",
    "geopy_df.to_csv(\"/Users/eliacannas/Desktop/tweet_nation.csv\", index=False)"
   ],
   "metadata": {
    "collapsed": false,
    "ExecuteTime": {
     "end_time": "2024-02-07T10:47:53.492675Z",
     "start_time": "2024-02-07T10:47:53.489230Z"
    }
   },
   "id": "d85b14332e9f3ef2"
  },
  {
   "cell_type": "markdown",
   "source": [
    "## Data Visualisation\n",
    "### Graphic display of results"
   ],
   "metadata": {
    "collapsed": false
   },
   "id": "905d73f36ced6775"
  },
  {
   "cell_type": "code",
   "execution_count": 7,
   "outputs": [
    {
     "name": "stdout",
     "output_type": "stream",
     "text": [
      "<class 'pandas.core.frame.DataFrame'>\n",
      "RangeIndex: 370766 entries, 0 to 370765\n",
      "Data columns (total 14 columns):\n",
      " #   Column           Non-Null Count   Dtype  \n",
      "---  ------           --------------   -----  \n",
      " 0   user_name        370764 non-null  object \n",
      " 1   user_location    370766 non-null  object \n",
      " 2   user_followers   370766 non-null  int64  \n",
      " 3   user_friends     370766 non-null  int64  \n",
      " 4   user_favourites  370766 non-null  int64  \n",
      " 5   user_verified    370766 non-null  bool   \n",
      " 6   date             370766 non-null  object \n",
      " 7   text             370766 non-null  object \n",
      " 8   hashtags         370763 non-null  object \n",
      "      370766 non-null  object \n",
      " 10  polarity         370766 non-null  float64\n",
      "       370766 non-null  object \n",
      " 12  IsLoc            370766 non-null  bool   \n",
      " 13  user_nation      326804 non-null  object \n",
      "dtypes: bool(2), float64(1), int64(3), object(8)\n",
      "memory usage: 34.7+ MB\n"
     ]
    },
    {
     "data": {
      "text/plain": "                 user_name                   user_location  user_followers  \\\n0                  Kotha40                 Soudersburg, PA           10357   \n1               Pyscho Ape                   New York, USA            1959   \n2  supar fan (follow back)               Dhaka, Bangladesh            2682   \n3              Christopher                     Manila Mesa              28   \n4                    Grace  San Francisco, California, Uni              12   \n\n   user_friends  user_favourites  user_verified        date  \\\n0         10602             7052          False  2022-03-02   \n1          5002             4472          False  2022-03-02   \n2          3118             1516          False  2022-03-02   \n3           142              341          False  2022-03-02   \n4             4             1027          False  2022-03-02   \n\n                                                text  \\\n0  # Orijin # Polygon # IDO # BSC # Eth # BTC # A...   \n1  👑Psycho Ape exclusive collection unique NFT 👑 ...   \n2  This project give us Good profit . I see perso...   \n3                   # btc testing testing testing 👀🚀   \n4  Encryption brought us lot surprises surprises ...   \n\n                                            hashtags is_retweet\\r  polarity  \\\n0  ['Orijin', 'Polygon', 'IDO', 'BSC', 'Eth', 'BT...      False\\r  0.145833   \n1  ['NFTCommunity', 'NFTGiveaway', 'art', 'NFTdro...      False\\r  0.375000   \n2  ['Orijin', 'Polygon', 'IDO', 'BSC', 'Eth', 'BT...      False\\r  0.580000   \n3                                            ['btc']      False\\r  0.000000   \n4  ['BTC', 'ETH', 'usdtry', 'CryptoNews', 'Ada', ...      False\\r  0.300000   \n\n  Sentiment\\r  IsLoc    user_nation  \n0  Positive\\r   True  United States  \n1  Positive\\r   True  United States  \n2  Positive\\r   True  United States  \n3   Neutral\\r   True    Philippines  \n4  Positive\\r   True  United States  ",
      "text/html": "<div>\n<style scoped>\n    .dataframe tbody tr th:only-of-type {\n        vertical-align: middle;\n    }\n\n    .dataframe tbody tr th {\n        vertical-align: top;\n    }\n\n    .dataframe thead th {\n        text-align: right;\n    }\n</style>\n<table border=\"1\" class=\"dataframe\">\n  <thead>\n    <tr style=\"text-align: right;\">\n      <th></th>\n      <th>user_name</th>\n      <th>user_location</th>\n      <th>user_followers</th>\n      <th>user_friends</th>\n      <th>user_favourites</th>\n      <th>user_verified</th>\n      <th>date</th>\n      <th>text</th>\n      <th>hashtags</th>\n      <th>is_retweet\\r</th>\n      <th>polarity</th>\n      <th>Sentiment\\r</th>\n      <th>IsLoc</th>\n      <th>user_nation</th>\n    </tr>\n  </thead>\n  <tbody>\n    <tr>\n      <th>0</th>\n      <td>Kotha40</td>\n      <td>Soudersburg, PA</td>\n      <td>10357</td>\n      <td>10602</td>\n      <td>7052</td>\n      <td>False</td>\n      <td>2022-03-02</td>\n      <td># Orijin # Polygon # IDO # BSC # Eth # BTC # A...</td>\n      <td>['Orijin', 'Polygon', 'IDO', 'BSC', 'Eth', 'BT...</td>\n      <td>False\\r</td>\n      <td>0.145833</td>\n      <td>Positive\\r</td>\n      <td>True</td>\n      <td>United States</td>\n    </tr>\n    <tr>\n      <th>1</th>\n      <td>Pyscho Ape</td>\n      <td>New York, USA</td>\n      <td>1959</td>\n      <td>5002</td>\n      <td>4472</td>\n      <td>False</td>\n      <td>2022-03-02</td>\n      <td>👑Psycho Ape exclusive collection unique NFT 👑 ...</td>\n      <td>['NFTCommunity', 'NFTGiveaway', 'art', 'NFTdro...</td>\n      <td>False\\r</td>\n      <td>0.375000</td>\n      <td>Positive\\r</td>\n      <td>True</td>\n      <td>United States</td>\n    </tr>\n    <tr>\n      <th>2</th>\n      <td>supar fan (follow back)</td>\n      <td>Dhaka, Bangladesh</td>\n      <td>2682</td>\n      <td>3118</td>\n      <td>1516</td>\n      <td>False</td>\n      <td>2022-03-02</td>\n      <td>This project give us Good profit . I see perso...</td>\n      <td>['Orijin', 'Polygon', 'IDO', 'BSC', 'Eth', 'BT...</td>\n      <td>False\\r</td>\n      <td>0.580000</td>\n      <td>Positive\\r</td>\n      <td>True</td>\n      <td>United States</td>\n    </tr>\n    <tr>\n      <th>3</th>\n      <td>Christopher</td>\n      <td>Manila Mesa</td>\n      <td>28</td>\n      <td>142</td>\n      <td>341</td>\n      <td>False</td>\n      <td>2022-03-02</td>\n      <td># btc testing testing testing 👀🚀</td>\n      <td>['btc']</td>\n      <td>False\\r</td>\n      <td>0.000000</td>\n      <td>Neutral\\r</td>\n      <td>True</td>\n      <td>Philippines</td>\n    </tr>\n    <tr>\n      <th>4</th>\n      <td>Grace</td>\n      <td>San Francisco, California, Uni</td>\n      <td>12</td>\n      <td>4</td>\n      <td>1027</td>\n      <td>False</td>\n      <td>2022-03-02</td>\n      <td>Encryption brought us lot surprises surprises ...</td>\n      <td>['BTC', 'ETH', 'usdtry', 'CryptoNews', 'Ada', ...</td>\n      <td>False\\r</td>\n      <td>0.300000</td>\n      <td>Positive\\r</td>\n      <td>True</td>\n      <td>United States</td>\n    </tr>\n  </tbody>\n</table>\n</div>"
     },
     "execution_count": 7,
     "metadata": {},
     "output_type": "execute_result"
    }
   ],
   "source": [
    "chunk = pd.read_csv(\"/Users/eliacannas/Desktop/SentimentAnalysis/venv/tweet_nation.csv\", chunksize=100000,lineterminator='\\n', low_memory=False)\n",
    "geopy_df = pd.concat(chunk)\n",
    "geopy_df.info()\n",
    "geopy_df.head()"
   ],
   "metadata": {
    "collapsed": false,
    "ExecuteTime": {
     "end_time": "2024-02-08T13:13:32.981603Z",
     "start_time": "2024-02-08T13:13:31.236900Z"
    }
   },
   "id": "4706a95e77cb75e0"
  },
  {
   "cell_type": "markdown",
   "source": [
    "#### Graph representing through a histogram the top 20 countries of origin of tweets, we can identify that the most influential country is the United States"
   ],
   "metadata": {
    "collapsed": false
   },
   "id": "95651488fd6d4765"
  },
  {
   "cell_type": "code",
   "execution_count": 10,
   "outputs": [
    {
     "data": {
      "text/plain": "<Figure size 1000x600 with 1 Axes>",
      "image/png": "[encoded data removed]"
     },
     "metadata": {},
     "output_type": "display_data"
    }
   ],
   "source": [
    "import matplotlib.pyplot as plt\n",
    "\n",
    "# Count the number of tweets for each country\n",
    "tweets_per_nation = geopy_df['user_nation'].value_counts().head(20)  # selects only the top 20 nations\n",
    "\n",
    "# Create the histogram\n",
    "plt.figure(figsize=(10, 6))\n",
    "tweets_per_nation.plot(kind='bar', color='skyblue')\n",
    "\n",
    "# Axis titles and labels\n",
    "plt.title('Number of Tweet for Nation (Top 20)')\n",
    "plt.xlabel('Nation')\n",
    "plt.ylabel('Number of Tweet')\n",
    "\n",
    "# Show histogram\n",
    "plt.tight_layout()\n",
    "plt.show()"
   ],
   "metadata": {
    "collapsed": false,
    "ExecuteTime": {
     "end_time": "2024-02-08T13:15:00.999729Z",
     "start_time": "2024-02-08T13:15:00.832116Z"
    }
   },
   "id": "233abd89f6ca4f2c"
  },
  {
   "cell_type": "markdown",
   "source": [
    "#### Representation with pie chart for better evaluation of the source nations of the tweets with the percentage of the total"
   ],
   "metadata": {
    "collapsed": false
   },
   "id": "3388c9afbf2664ee"
  },
  {
   "cell_type": "code",
   "execution_count": 11,
   "outputs": [
    {
     "data": {
      "text/plain": "<Figure size 600x600 with 1 Axes>",
      "image/png": "[encoded data removed]"
     },
     "metadata": {},
     "output_type": "display_data"
    }
   ],
   "source": [
    "import matplotlib.pyplot as plt\n",
    "\n",
    "# Count the number of tweets for each country\n",
    "tweets_per_nation = geopy_df['user_nation'].value_counts().head(5)  # selects only the top 5 nations\n",
    "\n",
    "# Calculate the percentage of tweets for each country\n",
    "percentages = (tweets_per_nation / tweets_per_nation.sum()) * 100\n",
    "\n",
    "# Create the pie chart\n",
    "plt.figure(figsize=(6, 6))\n",
    "plt.pie(percentages, labels=percentages.index, autopct='%1.1f%%', startangle=140, colors=plt.cm.tab20.colors)\n",
    "plt.title('Percentage of Tweets by Nation (Top 5)\\n')\n",
    "plt.axis('equal')  # Ensures that the pie chart is drawn as a circle\n",
    "# Show graph\n",
    "plt.show()"
   ],
   "metadata": {
    "collapsed": false,
    "ExecuteTime": {
     "end_time": "2024-02-08T13:15:28.885132Z",
     "start_time": "2024-02-08T13:15:28.811044Z"
    }
   },
   "id": "e2c5b93c20b91a79"
  },
  {
   "cell_type": "code",
   "execution_count": null,
   "outputs": [],
   "source": [],
   "metadata": {
    "collapsed": false,
    "ExecuteTime": {
     "start_time": "2024-02-07T10:47:53.490410Z"
    }
   },
   "id": "c68c34666a072ff"
  }
 ],
 "metadata": {
  "kernelspec": {
   "display_name": "Python 3 (ipykernel)",
   "language": "python",
   "name": "python3"
  },
  "language_info": {
   "codemirror_mode": {
    "name": "ipython",
    "version": 3
   },
   "file_extension": ".py",
   "mimetype": "text/x-python",
   "name": "python",
   "nbconvert_exporter": "python",
   "pygments_lexer": "ipython3",
   "version": "3.11.4"
  }
 },
 "nbformat": 4,
 "nbformat_minor": 5
}
